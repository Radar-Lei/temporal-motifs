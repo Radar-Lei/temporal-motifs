{
 "cells": [
  {
   "cell_type": "code",
   "execution_count": 1,
   "metadata": {
    "collapsed": false
   },
   "outputs": [
    {
     "name": "stdout",
     "output_type": "stream",
     "text": [
      "Populating the interactive namespace from numpy and matplotlib\n"
     ]
    }
   ],
   "source": [
    "import pandas as pd\n",
    "from tmotifs import *\n",
    "%pylab inline"
   ]
  },
  {
   "cell_type": "markdown",
   "metadata": {},
   "source": [
    "# Adding event types to TEG analysis"
   ]
  },
  {
   "cell_type": "code",
   "execution_count": 2,
   "metadata": {
    "collapsed": true
   },
   "outputs": [],
   "source": [
    "# Create a random dataset with event colourings.\n",
    "event_data = []\n",
    "nodes = list(range(20))\n",
    "\n",
    "for ix in range(100):\n",
    "    u, v = np.random.choice(nodes, size=2, replace=False)\n",
    "    color = 'r' if np.random.random() < 0.5 else 'g'\n",
    "    event_data.append({'source':u,\n",
    "                       'target':v,\n",
    "                       'time': ix,\n",
    "                       'type': color})\n",
    "    \n",
    "event_data = pd.DataFrame(event_data)"
   ]
  },
  {
   "cell_type": "markdown",
   "metadata": {},
   "source": [
    "The event_data dataframe can contain any number of columns.\n",
    "\n",
    "To use coloured motifs, the colouring must be in a column labelled 'type'.\n",
    "\n",
    "To use coloured nodes, the colours must be labelled with columns 'source_color' and 'target_color'."
   ]
  },
  {
   "cell_type": "code",
   "execution_count": 3,
   "metadata": {
    "collapsed": false
   },
   "outputs": [
    {
     "data": {
      "text/html": [
       "<div>\n",
       "<table border=\"1\" class=\"dataframe\">\n",
       "  <thead>\n",
       "    <tr style=\"text-align: right;\">\n",
       "      <th></th>\n",
       "      <th>source</th>\n",
       "      <th>target</th>\n",
       "      <th>time</th>\n",
       "      <th>type</th>\n",
       "    </tr>\n",
       "  </thead>\n",
       "  <tbody>\n",
       "    <tr>\n",
       "      <th>0</th>\n",
       "      <td>4</td>\n",
       "      <td>17</td>\n",
       "      <td>0</td>\n",
       "      <td>r</td>\n",
       "    </tr>\n",
       "    <tr>\n",
       "      <th>1</th>\n",
       "      <td>17</td>\n",
       "      <td>5</td>\n",
       "      <td>1</td>\n",
       "      <td>r</td>\n",
       "    </tr>\n",
       "    <tr>\n",
       "      <th>2</th>\n",
       "      <td>2</td>\n",
       "      <td>17</td>\n",
       "      <td>2</td>\n",
       "      <td>r</td>\n",
       "    </tr>\n",
       "    <tr>\n",
       "      <th>3</th>\n",
       "      <td>15</td>\n",
       "      <td>1</td>\n",
       "      <td>3</td>\n",
       "      <td>g</td>\n",
       "    </tr>\n",
       "    <tr>\n",
       "      <th>4</th>\n",
       "      <td>14</td>\n",
       "      <td>11</td>\n",
       "      <td>4</td>\n",
       "      <td>r</td>\n",
       "    </tr>\n",
       "  </tbody>\n",
       "</table>\n",
       "</div>"
      ],
      "text/plain": [
       "   source  target  time type\n",
       "0       4      17     0    r\n",
       "1      17       5     1    r\n",
       "2       2      17     2    r\n",
       "3      15       1     3    g\n",
       "4      14      11     4    r"
      ]
     },
     "execution_count": 3,
     "metadata": {},
     "output_type": "execute_result"
    }
   ],
   "source": [
    "event_data.head()"
   ]
  },
  {
   "cell_type": "code",
   "execution_count": 4,
   "metadata": {
    "collapsed": false
   },
   "outputs": [
    {
     "name": "stderr",
     "output_type": "stream",
     "text": [
      "/localhome/users/mmasm/anaconda/envs/python3/lib/python3.4/site-packages/pandas/core/indexing.py:288: SettingWithCopyWarning: \n",
      "A value is trying to be set on a copy of a slice from a DataFrame.\n",
      "Try using .loc[row_indexer,col_indexer] = value instead\n",
      "\n",
      "See the caveats in the documentation: http://pandas.pydata.org/pandas-docs/stable/indexing.html#indexing-view-versus-copy\n",
      "  self.obj[key] = _infer_fill_value(value)\n",
      "/localhome/users/mmasm/anaconda/envs/python3/lib/python3.4/site-packages/pandas/core/indexing.py:465: SettingWithCopyWarning: \n",
      "A value is trying to be set on a copy of a slice from a DataFrame.\n",
      "Try using .loc[row_indexer,col_indexer] = value instead\n",
      "\n",
      "See the caveats in the documentation: http://pandas.pydata.org/pandas-docs/stable/indexing.html#indexing-view-versus-copy\n",
      "  self.obj[item] = s\n"
     ]
    },
    {
     "name": "stdout",
     "output_type": "stream",
     "text": [
      " 50/100"
     ]
    }
   ],
   "source": [
    "teg = EventGraph.from_eventlist(event_data)\n",
    "teg.build(verbose=True)"
   ]
  },
  {
   "cell_type": "code",
   "execution_count": 5,
   "metadata": {
    "collapsed": false
   },
   "outputs": [
    {
     "name": "stdout",
     "output_type": "stream",
     "text": [
      " 174/175"
     ]
    }
   ],
   "source": [
    "# Note that we specify we want to use the type when adding edge motifs. \n",
    "# If we omit it then we get uncoloured motifs.\n",
    "teg.add_edge_types(verbose=True, columns=['source', 'target', 'time', 'type'])"
   ]
  },
  {
   "cell_type": "code",
   "execution_count": 6,
   "metadata": {
    "collapsed": true
   },
   "outputs": [],
   "source": [
    "motifs = teg.get_motif_distribution()"
   ]
  },
  {
   "cell_type": "code",
   "execution_count": 7,
   "metadata": {
    "collapsed": false
   },
   "outputs": [
    {
     "data": {
      "text/plain": [
       "Counter({'ABg-ABg': 1,\n",
       "         'ABg-ABr': 1,\n",
       "         'ABg-ACg': 4,\n",
       "         'ABg-ACr': 14,\n",
       "         'ABg-BCg': 10,\n",
       "         'ABg-BCr': 6,\n",
       "         'ABg-CAg': 7,\n",
       "         'ABg-CAr': 5,\n",
       "         'ABg-CBg': 6,\n",
       "         'ABg-CBr': 8,\n",
       "         'ABr-ABr': 2,\n",
       "         'ABr-ACg': 7,\n",
       "         'ABr-ACr': 14,\n",
       "         'ABr-BAr': 1,\n",
       "         'ABr-BCg': 10,\n",
       "         'ABr-BCr': 14,\n",
       "         'ABr-CAg': 14,\n",
       "         'ABr-CAr': 16,\n",
       "         'ABr-CBg': 8,\n",
       "         'ABr-CBr': 19})"
      ]
     },
     "execution_count": 7,
     "metadata": {},
     "output_type": "execute_result"
    }
   ],
   "source": [
    "from collections import Counter\n",
    "\n",
    "Counter(motifs)"
   ]
  }
 ],
 "metadata": {
  "kernelspec": {
   "display_name": "Python [conda env:python3]",
   "language": "python",
   "name": "conda-env-python3-py"
  },
  "language_info": {
   "codemirror_mode": {
    "name": "ipython",
    "version": 3
   },
   "file_extension": ".py",
   "mimetype": "text/x-python",
   "name": "python",
   "nbconvert_exporter": "python",
   "pygments_lexer": "ipython3",
   "version": "3.4.5"
  }
 },
 "nbformat": 4,
 "nbformat_minor": 1
}
